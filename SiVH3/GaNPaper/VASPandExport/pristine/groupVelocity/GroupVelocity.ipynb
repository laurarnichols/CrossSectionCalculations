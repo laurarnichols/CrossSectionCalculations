{
 "cells": [
  {
   "cell_type": "markdown",
   "id": "0f665318",
   "metadata": {},
   "source": [
    "# Group Velocity\n",
    "\n",
    "This notebook reads in grouped eigenvalues for a single central k-point as output by the `Export` code. It is meant to speed up the process of aligning crossed bands, determining which bands should go together across the coordinates, and getting the slope of all of the bands.\n",
    "\n",
    "For Si, Guanzhi did the $\\Gamma$-point values, but I did the other ones. In our case, all k-points with the same number of non-zero coordinates were the same, so I only did this process explicitly for a subset of the k-points. That may be the case in general, but you should confirm it in your own system.\n",
    "\n",
    "## Setup"
   ]
  },
  {
   "cell_type": "code",
   "execution_count": 34,
   "id": "6624855f",
   "metadata": {},
   "outputs": [],
   "source": [
    "import numpy as np\n",
    "import matplotlib.pyplot as plt\n",
    "\n",
    "# Constants\n",
    "HBAR = 6.582e-16 # Unit: eV s\n",
    "HARTREE_TO_EV = 27.211\n",
    "HARTREEAU_TO_ANG = 0.529177210903\n",
    "ANG_TO_CM = 1e-8\n",
    "\n",
    "PATH = '../CrossSectionCalculations/SiVH3/GaNPaper/VASPAndExport/pristine/groupVelocity/4'"
   ]
  },
  {
   "cell_type": "markdown",
   "id": "81c2d9f5",
   "metadata": {},
   "source": [
    "I defined my k-points in direct coordinates, so I needed to convert from direct to Cartesian coordinates. The way to do this is to do a matrix multiplication between the reciprocal lattice vectors and the direct coordinates. In the case of Si, there are not off-diagonal terms in the lattice vectors, I only displaced in one coordinate direction at a time for the displaced k-points, and all of the diagonal elements were the same, so I only needed that value that is along the diagonal. *If any of these are not true for your case, you will need to change this to use the full matrix.*\n",
    "\n",
    "This number is expected to be in Hartree atomic units. I got it from the `input` file output by the `Export` code. "
   ]
  },
  {
   "cell_type": "code",
   "execution_count": null,
   "id": "64f96771",
   "metadata": {},
   "outputs": [],
   "source": [
    "RECIP_LATT_VEC = 1.520070928286644E-001 # Hartree a.u."
   ]
  },
  {
   "cell_type": "markdown",
   "id": "c0966378",
   "metadata": {},
   "source": [
    "### Set up helper functions\n",
    "\n",
    "The `read_grouped_eigenvalues` function is set up to read the eigenvalues as output from the `Export` code in the `groupedEigenvalues.isp.ik` files. **Make sure to change the bands that are being read to match your system.** I would suggest starting at the band edge and working your way out from there. It is helpful to include bands past the ones you actually need velocities for because sometimes the last bands you need are crossed over with others. \n",
    "\n",
    "The `read_grouped_eigenvalues` function is called for each k-point and coordinate individually. `eigv` has shape `(nBandsRead,nDispK)`, where `nDispK` is the number of displaced k-points included in the grouped eigenvalues file."
   ]
  },
  {
   "cell_type": "code",
   "execution_count": 3,
   "id": "077e2a33",
   "metadata": {},
   "outputs": [],
   "source": [
    "def read_grouped_eigenvalues(file_path):\n",
    "    eigenvalues = np.loadtxt(file_path, skiprows=4)\n",
    "    # CHANGE THE BAND LIMITS HERE\n",
    "    eigv = eigenvalues[1024:1095,:-1] # Skip the last column with the occupation\n",
    "    return eigv"
   ]
  },
  {
   "cell_type": "markdown",
   "id": "4b0599d3",
   "metadata": {},
   "source": [
    "The `line_up_bands` function is meant to help with uncrossing bands. By default, the bands are just labeled at each k-point individually in order of increasing energy. However, if the bands cross, the labels will not match. We need to match the k-points up correctly in order to get an accurate slope for the group velocity. \n",
    "\n",
    "The `line_up_bands` function is called for one k-point and coordinate at a time. It expects an array (`arr`) of shape `(nBandsRead,nDispK)`. The value at a specific displaced k-point index `idk` is stored for two different band indices `ib1` and `ib2`. The values are then swapped and stored back in the original array, and the updated array is returned. "
   ]
  },
  {
   "cell_type": "code",
   "execution_count": 4,
   "id": "e43abd1c",
   "metadata": {},
   "outputs": [],
   "source": [
    "def line_up_bands(arr,ib1,ib2,idk):\n",
    "    save1 = arr[ib1,idk]\n",
    "    save2 = arr[ib2,idk]\n",
    "    arr[ib1,idk] = save2\n",
    "    arr[ib2,idk] = save1\n",
    "    return arr"
   ]
  },
  {
   "cell_type": "markdown",
   "id": "f2168e02",
   "metadata": {},
   "source": [
    "The `swap_bands` function is meant to swap the band index of two bands across all displaced k-points. We need this in order to make sure that all bands within a degeneracy group have the same total group velocity once the coordinates are combined. In order to accomplish this, the combination of high/slow slope bands must be equal across the coordinates. \n",
    "\n",
    "The `swap_bands` function takes an array of shape `(nBandsRead,nDispK)`, copies the values across each displaced k-point for two different band indices, then swaps the values and stores them back in the original array, which is then returned. "
   ]
  },
  {
   "cell_type": "code",
   "execution_count": 5,
   "id": "bf0eb1d5",
   "metadata": {},
   "outputs": [],
   "source": [
    "def swap_bands(arr,ib1,ib2):\n",
    "    save1 = np.copy(arr[ib1])\n",
    "    save2 = np.copy(arr[ib2])\n",
    "    arr[ib1] = save2\n",
    "    arr[ib2] = save1\n",
    "    return arr"
   ]
  },
  {
   "cell_type": "markdown",
   "id": "dabe7870",
   "metadata": {},
   "source": [
    "## Read in base eigenvalues\n",
    "\n",
    "Define the number of central k-points in your calculation and the displacement pattern. I did a calculation for one central k-point at a time, so the k-point index was always 1, but you could do them all together and read them with this loop. **Make sure to set the spin index (the first number in the grouped eigenvalues file name) to the one that you need.** "
   ]
  },
  {
   "cell_type": "code",
   "execution_count": 35,
   "id": "58f2f8ee",
   "metadata": {},
   "outputs": [],
   "source": [
    "# Inputs\n",
    "num_k_points = 1\n",
    "dispPattern = [-0.01, 0.00, 0.01, 0.02]\n",
    "eigs = []\n",
    "\n",
    "# Read transition rates and energies for each k-point\n",
    "for ik in range(num_k_points):\n",
    "    eigs_k = []\n",
    "    \n",
    "    file_path = f'{PATH}/groupedEigenvaluesX.1.{ik+1}'\n",
    "    eigv = read_grouped_eigenvalues(file_path)\n",
    "    eigs_k.append(eigv)\n",
    "    \n",
    "    file_path = f'{PATH}/groupedEigenvaluesY.1.{ik+1}'\n",
    "    eigv = read_grouped_eigenvalues(file_path)\n",
    "    eigs_k.append(eigv)\n",
    "    \n",
    "    file_path = f'{PATH}/groupedEigenvaluesZ.1.{ik+1}'\n",
    "    eigv = read_grouped_eigenvalues(file_path)\n",
    "    eigs_k.append(eigv)\n",
    "    \n",
    "    eigs.append(eigs_k)\n",
    "\n",
    "        \n",
    "eigs = np.array(eigs)"
   ]
  },
  {
   "cell_type": "markdown",
   "id": "22c20fdb",
   "metadata": {},
   "source": [
    "You can also read in the lined-up eigenvalues stored from a previous usage of this notebook. I have this set up so that the cell above is run first and the bands that I considered (indexed to 64) were overwritten by the `linedUpEigs` files. "
   ]
  },
  {
   "cell_type": "code",
   "execution_count": 36,
   "id": "2d2e2d2e",
   "metadata": {},
   "outputs": [],
   "source": [
    "for ik in range(num_k_points):\n",
    "    eigs[ik,0,:64,:] = np.loadtxt(f'{PATH}/linedUpEigsX.{ik+1}')\n",
    "    eigs[ik,1,:64,:] = np.loadtxt(f'{PATH}/linedUpEigsY.{ik+1}')\n",
    "    eigs[ik,2,:64,:] = np.loadtxt(f'{PATH}/linedUpEigsZ.{ik+1}')"
   ]
  },
  {
   "cell_type": "code",
   "execution_count": 315,
   "id": "1fd3bfee",
   "metadata": {},
   "outputs": [
    {
     "name": "stdout",
     "output_type": "stream",
     "text": [
      "(1, 3, 71, 5)\n"
     ]
    }
   ],
   "source": [
    "print(eigs.shape)"
   ]
  },
  {
   "cell_type": "markdown",
   "id": "e6bc993d",
   "metadata": {},
   "source": [
    "## Plot and rearrange to line up bands correctly\n",
    "\n",
    "Plot a range of bands. It is useful to plot several bands until you narrow down the degeneracy group, then narrow into one group at a time to line up and swap bands as needed. The three-row figure is helpful for looking at the bands in more detail and the three-column figure is helpful for getting an overview of all of the bands at once. The plots are in the order $x,y,z$. \n",
    "\n",
    "Start with `base=0`, then adjust the number of bands shown using `nBandsShown`. As you complete lining up bands, increase `base` until all the bands you need are lined up."
   ]
  },
  {
   "cell_type": "code",
   "execution_count": 15,
   "id": "8338fa59",
   "metadata": {
    "scrolled": false
   },
   "outputs": [
    {
     "data": {
      "image/png": "[encoded data removed]",
      "text/plain": [
       "<Figure size 1200x400 with 3 Axes>"
      ]
     },
     "metadata": {},
     "output_type": "display_data"
    }
   ],
   "source": [
    "#fig, axes = plt.subplots(3, 1, figsize=(6,18))  # 3 rows, 1 column\n",
    "fig, axes = plt.subplots(1, 3, figsize=(12,4))  # 1 row, 3 columns\n",
    "\n",
    "ik=0\n",
    "\n",
    "base = 0\n",
    "nBandsShown = 6\n",
    "\n",
    "for ix in range(3):\n",
    "    for ib in range(base,base+nBandsShown):\n",
    "        axes[ix].plot(dispPattern, eigs[ik,ix,ib],label=' ')        \n",
    "        axes[ix].legend()"
   ]
  },
  {
   "cell_type": "markdown",
   "id": "9298ba02",
   "metadata": {},
   "source": [
    "It can take quite a bit of time to line up the bands, so it is helpful to store the array as you go so that you have a point to \"undo\" to if you make a mistake. I would recommend storing this after each degeneracy group that you line up."
   ]
  },
  {
   "cell_type": "code",
   "execution_count": 302,
   "id": "e59b45e8",
   "metadata": {},
   "outputs": [],
   "source": [
    "undo = np.copy(eigs)\n",
    "#eigs = np.copy(undo)"
   ]
  },
  {
   "cell_type": "markdown",
   "id": "70a1755c",
   "metadata": {},
   "source": [
    "### Line up crossed bands\n",
    "\n",
    "The `line_up_bands` function swaps the band index for a single coordinate `ix` and displaced-k-point index `idk`. There are some configurations that are reoccurring and some that are unique. I kept two cells so that I wouldn't have to keep rewriting the standard setup each time I encountered a unique one. \n",
    "\n",
    "List the coordinate indices in the `ixs` array, the displaced-k-point indices in `idks`, and the indices of the bands to swap in the `pairs` array. The bands are indexed above the `base` defined in the plotting cell. Only one of the next two cells should be run to define these values, then run the cell with the call to `line_up_bands`. Check out the plot above to confirm that you did what you meant to."
   ]
  },
  {
   "cell_type": "code",
   "execution_count": 268,
   "id": "299f982b",
   "metadata": {},
   "outputs": [],
   "source": [
    "# Standard\n",
    "ixs = [0]\n",
    "idks = [2]\n",
    "pairs = [[0,3],[1,2]]\n",
    "#pairs = [[0,1]]\n",
    "#pairs = [[0,7],[1,6],[2,5],[3,4]]"
   ]
  },
  {
   "cell_type": "code",
   "execution_count": 295,
   "id": "1e132793",
   "metadata": {},
   "outputs": [],
   "source": [
    "# Unique\n",
    "ixs = [0,1]\n",
    "idks = [2]\n",
    "pairs = [[0,13]]"
   ]
  },
  {
   "cell_type": "code",
   "execution_count": 296,
   "id": "cecc07b2",
   "metadata": {},
   "outputs": [],
   "source": [
    "for ix in ixs:\n",
    "    for idk in idks:\n",
    "        for pair in pairs:\n",
    "            eigs[ik,ix,:] = line_up_bands(eigs[ik,ix,:],base+pair[0],base+pair[1],idk)"
   ]
  },
  {
   "cell_type": "markdown",
   "id": "22ecd997",
   "metadata": {},
   "source": [
    "### Swap bands\n",
    "\n",
    "*After the bands are lined up*, swap entire bands so that the group velocity is the same for all bands within a degeneracy group."
   ]
  },
  {
   "cell_type": "code",
   "execution_count": 270,
   "id": "f09ac932",
   "metadata": {},
   "outputs": [],
   "source": [
    "ix = 1\n",
    "#pairs = [[0,1]]#,[2,3]]\n",
    "pairs = [[0,2],[1,3]]\n",
    "\n",
    "for pair in pairs:\n",
    "    eigs[ik,ix,:] = swap_bands(eigs[ik,ix,:],base+pair[0],base+pair[1])"
   ]
  },
  {
   "cell_type": "markdown",
   "id": "10305ecc",
   "metadata": {},
   "source": [
    "## Save array with lined up bands\n",
    "\n",
    "Save the array with bands lined up so that we can have it for future reference if needed."
   ]
  },
  {
   "cell_type": "code",
   "execution_count": 279,
   "id": "f97c448b",
   "metadata": {},
   "outputs": [],
   "source": [
    "np.savetxt(f'{PATH}/linedUpEigsX.{ik+1}', eigs[ik,0,:64,:])\n",
    "np.savetxt(f'{PATH}/linedUpEigsY.{ik+1}', eigs[ik,1,:64,:])\n",
    "np.savetxt(f'{PATH}/linedUpEigsZ.{ik+1}', eigs[ik,2,:64,:])"
   ]
  },
  {
   "cell_type": "markdown",
   "id": "999a6122",
   "metadata": {},
   "source": [
    "## Get group velocities\n",
    "\n",
    "Once all of the bands you need are lined up, the loop below calculates all of the slopes. I have encountered quadratic bands and linear bands, so I included fits to each of those. If the fit to a line is very good, the linear slope is used. Otherwise, the fit to a parabola is used. The equations below assume that the center k-point is treated as zero. The slope for each band and each direction is calculated independently, then the coordinates are combined to get a total group velocity for each band. The units are converted to cm/s based on the constants set at the beginning of this notebook."
   ]
  },
  {
   "cell_type": "code",
   "execution_count": 37,
   "id": "4e64282e",
   "metadata": {},
   "outputs": [],
   "source": [
    "vgs = []\n",
    "order = np.zeros((3,64)) - 1"
   ]
  },
  {
   "cell_type": "code",
   "execution_count": 38,
   "id": "b93d59ed",
   "metadata": {},
   "outputs": [],
   "source": [
    "#fig, axes = plt.subplots(1, 3, figsize=(12,4))  # 1 row, 3 columns\n",
    "ik = 0\n",
    "\n",
    "dispFitPlot = np.linspace(dispPattern[0],dispPattern[-1],50)\n",
    "vg = np.zeros((3))\n",
    "R2 = np.zeros((2))\n",
    "vg_fit = np.zeros((2))\n",
    "\n",
    "\n",
    "for ib in range(0,64):\n",
    "    for ix in range(3):\n",
    "        for iorder in range(2):\n",
    "            # Fit to polynomial\n",
    "            p = np.polyfit(dispPattern, eigs[ik,ix,ib],iorder+1)\n",
    "            \n",
    "            # Get predicted values\n",
    "            eigFit = np.polyval(p,dispPattern)\n",
    "            eigFitPlot = np.polyval(p,dispFitPlot)\n",
    "            \n",
    "            # Get goodness of fit\n",
    "            SSR = np.sum((eigFit-eigs[ik,ix,ib])**2)\n",
    "            SST = np.sum((eigs[ik,ix,ib] - np.mean(eigs[ik,ix,ib]))**2)\n",
    "            R2[iorder] = 1 - SSR/SST\n",
    "            \n",
    "            # vg = slope/hbar with unit conversion\n",
    "            # Convert k length to Cartesian and cm\n",
    "            vg_fit[iorder] = p[iorder]*(1/HBAR)*HARTREE_TO_EV*(1/(RECIP_LATT_VEC/(HARTREEAU_TO_ANG*ANG_TO_CM)))\n",
    "            \n",
    "            #print(f'{ib}, {ix}, {iorder+1}, {R2[iorder]:.5f}, {vg_fit[iorder]:.2e}')\n",
    "            #axes[ix].plot(dispFitPlot, eigFitPlot)\n",
    "            #axes[ix].plot(dispPattern, eigs[ik,ix,ib])\n",
    "            \n",
    "        if R2[0] > 0.99:\n",
    "            vg[ix] = vg_fit[0]\n",
    "            order[ix,ib] = 1\n",
    "        else: \n",
    "            vg[ix] = vg_fit[1]\n",
    "            order[ix,ib] = 2\n",
    "            \n",
    "    vgs.append(np.linalg.norm(vg))\n",
    "    #print(f'{ib}, {order[:,ib]}')"
   ]
  },
  {
   "cell_type": "markdown",
   "id": "2ad0aa40",
   "metadata": {},
   "source": [
    "I copied these values directly into a spreadsheet that I used for further analysis, but you can add saving them to a file."
   ]
  },
  {
   "cell_type": "code",
   "execution_count": 39,
   "id": "71f0e438",
   "metadata": {},
   "outputs": [
    {
     "name": "stdout",
     "output_type": "stream",
     "text": [
      "5.39e+07\n",
      "5.39e+07\n",
      "1.34e+07\n",
      "5.33e+07\n",
      "5.33e+07\n",
      "4.70e+07\n",
      "4.70e+07\n",
      "5.99e+07\n",
      "5.99e+07\n",
      "2.31e+07\n",
      "6.58e+07\n",
      "6.58e+07\n",
      "5.99e+07\n",
      "5.99e+07\n",
      "6.38e+07\n",
      "6.38e+07\n",
      "7.03e+07\n",
      "7.03e+07\n",
      "7.02e+07\n",
      "7.02e+07\n",
      "9.06e+07\n",
      "9.06e+07\n",
      "4.26e+07\n",
      "4.24e+07\n",
      "8.93e+07\n",
      "8.93e+07\n",
      "7.13e+07\n",
      "7.13e+07\n",
      "6.84e+07\n",
      "6.84e+07\n",
      "1.12e+08\n",
      "6.66e+07\n",
      "6.66e+07\n",
      "7.30e+07\n",
      "7.30e+07\n",
      "7.10e+07\n",
      "7.10e+07\n",
      "9.45e+07\n",
      "9.45e+07\n",
      "7.17e+07\n",
      "7.16e+07\n",
      "8.99e+07\n",
      "8.99e+07\n",
      "1.11e+08\n",
      "1.11e+08\n",
      "1.12e+08\n",
      "1.12e+08\n",
      "7.51e+07\n",
      "7.51e+07\n",
      "7.48e+07\n",
      "7.48e+07\n",
      "9.65e+07\n",
      "9.65e+07\n",
      "4.49e+07\n",
      "7.04e+07\n",
      "7.04e+07\n",
      "1.11e+08\n",
      "1.11e+08\n",
      "1.11e+08\n",
      "1.11e+08\n",
      "6.09e+07\n",
      "6.02e+07\n",
      "7.57e+07\n",
      "7.57e+07\n"
     ]
    }
   ],
   "source": [
    "for ib in range(0,64):\n",
    "    print(f'{vgs[ib]:.2e}')"
   ]
  },
  {
   "cell_type": "markdown",
   "id": "13b65f9d",
   "metadata": {},
   "source": [
    "Use the cell below to look closer at the fitted values."
   ]
  },
  {
   "cell_type": "code",
   "execution_count": 12,
   "id": "7dccef19",
   "metadata": {},
   "outputs": [
    {
     "name": "stdout",
     "output_type": "stream",
     "text": [
      "0, 0, 1, 0.99176, 1.41e+04\n",
      "0, 0, 2, 1.00000, 1.27e+04\n",
      "0, 1, 1, 0.99989, 4.58e+05\n",
      "0, 1, 2, 1.00000, 4.52e+05\n",
      "0, 2, 1, 0.59083, 1.55e+03\n",
      "0, 2, 2, 0.97945, 1.45e+02\n",
      "1, 0, 1, 0.99986, -4.46e+05\n",
      "1, 0, 2, 1.00000, -4.52e+05\n",
      "1, 1, 1, 0.99441, -1.18e+04\n",
      "1, 1, 2, 0.99974, -1.27e+04\n",
      "1, 2, 1, 0.59083, 1.55e+03\n",
      "1, 2, 2, 0.97945, 1.45e+02\n"
     ]
    },
    {
     "data": {
      "image/png": "[encoded data removed]",
      "text/plain": [
       "<Figure size 1200x400 with 3 Axes>"
      ]
     },
     "metadata": {},
     "output_type": "display_data"
    }
   ],
   "source": [
    "fig, axes = plt.subplots(1, 3, figsize=(12,4))  # 1 row, 3 columns\n",
    "ik = 0\n",
    "\n",
    "dispFitPlot = np.linspace(dispPattern[0],dispPattern[-1],50)\n",
    "vg = np.zeros((3))\n",
    "R2 = np.zeros((2))\n",
    "vg_fit = np.zeros((2))\n",
    "\n",
    "\n",
    "for ib in range(0,2):\n",
    "    for ix in range(3):\n",
    "        for iorder in range(2):\n",
    "            # Fit to polynomial\n",
    "            p = np.polyfit(dispPattern, eigs[ik,ix,ib],iorder+1)\n",
    "            \n",
    "            # Get predicted values\n",
    "            eigFit = np.polyval(p,dispPattern)\n",
    "            eigFitPlot = np.polyval(p,dispFitPlot)\n",
    "            \n",
    "            # Get goodness of fit\n",
    "            SSR = np.sum((eigFit-eigs[ik,ix,ib])**2)\n",
    "            SST = np.sum((eigs[ik,ix,ib] - np.mean(eigs[ik,ix,ib]))**2)\n",
    "            R2[iorder] = 1 - SSR/SST\n",
    "            \n",
    "            # vg = slope/hbar with unit conversion\n",
    "            # Convert k length to Cartesian and cm\n",
    "            \n",
    "            vg_fit[iorder] = p[iorder]*(1/HBAR)*HARTREE_TO_EV*(1/(RECIP_TO_CART/ANG_TO_CM))\n",
    "            print(f'{ib}, {ix}, {iorder+1}, {R2[iorder]:.5f}, {vg_fit[iorder]:.2e}')\n",
    "            axes[ix].plot(dispFitPlot, eigFitPlot)"
   ]
  }
 ],
 "metadata": {
  "kernelspec": {
   "display_name": "Python 3 (ipykernel)",
   "language": "python",
   "name": "python3"
  },
  "language_info": {
   "codemirror_mode": {
    "name": "ipython",
    "version": 3
   },
   "file_extension": ".py",
   "mimetype": "text/x-python",
   "name": "python",
   "nbconvert_exporter": "python",
   "pygments_lexer": "ipython3",
   "version": "3.8.10"
  }
 },
 "nbformat": 4,
 "nbformat_minor": 5
}
